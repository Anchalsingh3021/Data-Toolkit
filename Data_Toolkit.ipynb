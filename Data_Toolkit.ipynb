{
  "nbformat": 4,
  "nbformat_minor": 0,
  "metadata": {
    "colab": {
      "provenance": []
    },
    "kernelspec": {
      "name": "python3",
      "display_name": "Python 3"
    },
    "language_info": {
      "name": "python"
    }
  },
  "cells": [
    {
      "cell_type": "markdown",
      "source": [
        "##Data Toolkit\n",
        "\n",
        "\n",
        "\n",
        "1. What is NumPy, and why is it widely used in Python?\n",
        "  \n",
        "   - NumPy is a popular Python library that we use for numerical and scientific computing. It helps us work with large, multi-dimensional arrays and matrices, and provides a wide range of mathematical functions to perform operations on them. The main reason we use NumPy is its speed – it allows us to perform complex calculations much faster than with regular Python lists. Additionally, NumPy supports vectorized operations, meaning we can apply operations to entire arrays at once, making our code more efficient and easier to write. Since it's the foundation for other data analysis libraries like Pandas, NumPy is essential for us in data science and machine learning.\n",
        "\n",
        "2. How does broadcasting work in NumPy?\n",
        "\n",
        "   - Broadcasting in NumPy allows us to perform operations on arrays of different shapes in a way that makes them compatible for element-wise operations. Instead of reshaping arrays manually, NumPy automatically adjusts the smaller array to match the dimensions of the larger array. For example, if we have a 2D array and want to add a 1D array to each row, NumPy will \"stretch\" the 1D array to match the shape of the 2D array and perform the operation element-wise. This makes our code cleaner and more efficient by avoiding the need to explicitly repeat elements in the smaller array. Broadcasting is a powerful feature that saves us time and memory while working with arrays of different shapes.\n",
        "\n",
        "3. What is a Pandas DataFrame?\n",
        "\n",
        "   - A Pandas DataFrame is a two-dimensional, labeled data structure that we use in Python for data analysis. It is similar to a table in a database or an Excel spreadsheet, where we have rows and columns. Each column can hold different types of data, like integers, floats, or strings. We can think of it as a collection of Series (which are one-dimensional arrays) aligned along the same index. The DataFrame allows us to easily manipulate, analyze, and visualize data. With Pandas, we can filter rows, calculate statistics, handle missing data, and merge or join different datasets, making it one of the most powerful tools for working with structured data in Python.\n",
        "\n",
        "\n",
        "4.  Explain the use of the groupby() method in Pandas.\n",
        "\n",
        "   - The `groupby()` method in Pandas is used to split our data into groups based on some criteria, perform operations on each group, and then combine the results back into a single DataFrame. It’s helpful when we need to analyze data that shares common characteristics, like calculating the average salary of employees in different departments or counting the number of sales for each product category.\n",
        "\n",
        "     When we use `groupby()`, we first specify the column(s) we want to group by. Then, we can apply functions like `sum()`, `mean()`, `count()`, or custom functions to each group. Finally, Pandas combines the results into a new DataFrame or Series. This method makes it easier to summarize and aggregate data in a meaningful way.\n",
        "\n",
        "\n",
        "5. Why is Seaborn preferred for statistical visualizations?\n",
        "\n",
        "   - The `groupby()` method in Pandas is used to split our data into groups based on some criteria, perform operations on each group, and then combine the results back into a single DataFrame. It’s helpful when we need to analyze data that shares common characteristics, like calculating the average salary of employees in different departments or counting the number of sales for each product category.\n",
        "\n",
        "     When we use `groupby()`, we first specify the column(s) we want to group by. Then, we can apply functions like `sum()`, `mean()`, `count()`, or custom functions to each group. Finally, Pandas combines the results into a new DataFrame or Series. This method makes it easier to summarize and aggregate data in a meaningful way.\n",
        "\n",
        "6. What are the differences between NumPy arrays and Python lists?\n",
        "\n",
        "   - **NumPy Arrays:**\n",
        "        1. **Performance**: NumPy arrays are faster and better at handling large amounts of data. This is because they are built to work with numbers quickly and efficiently.\n",
        "        2. **Data Type**: All the items in a NumPy array must be the **same type** (like all numbers or all floats). This makes it work better and use memory more efficiently.\n",
        "        3. **Memory Usage**: NumPy arrays use less memory because they store data in a more compact way, so they don’t waste space.\n",
        "        4. **Functionality**: NumPy arrays have lots of built-in tools to do math and statistics (like adding or multiplying numbers in an array all at once).\n",
        "        5. **Multidimensional Support**: NumPy arrays can easily handle multiple dimensions, like 2D tables or 3D data.\n",
        "\n",
        "   - **Python Lists:**\n",
        "        1. **Performance**: Python lists are slower for math and number-related tasks, especially with big amounts of data, because they weren’t made for that.\n",
        "        2. **Data Type**: Python lists can have different types of data together (like numbers, text, and other types in the same list).\n",
        "        3. **Memory Usage**: Python lists use more memory because they need extra space to store information about each item, like its type and size.\n",
        "        4. **Functionality**: Python lists don’t have built-in tools for math. We would need to write loops or use extra code to do the same thing.\n",
        "        5. **Multidimensional Support**: Python lists can only handle one row of data easily. To store more complex data, we need to use lists inside lists, which can get tricky.\n",
        "\n",
        "\n",
        "7. What is a heatmap, and when should it be used?\n",
        "\n",
        "   - A **heatmap** is a type of data visualization that shows the magnitude of values in a matrix or 2D space using colors. The darker or brighter the color, the higher or lower the value it represents. It’s useful for spotting patterns, trends, or areas of interest in data quickly. For example, we might use a heatmap to show the correlation between different variables in a dataset, where strong positive correlations might be shown in dark red and negative correlations in blue.\n",
        "\n",
        "     We should use a heatmap when we want to visualize data that has a **clear spatial structure** or when we need to understand the relationship between multiple variables. It's particularly helpful in fields like **data analysis**, **geographical mapping**, or **machine learning** when comparing data points across a grid or matrix.\n",
        "\n",
        "8. What does the term “vectorized operation” mean in NumPy?\n",
        "\n",
        "   - In NumPy, a **vectorized operation** means performing calculations or tasks on entire arrays or matrices all at once, rather than using loops to process each individual element. This approach is much faster because NumPy is optimized to perform these operations efficiently at a low level (in C).\n",
        "\n",
        "     For example, if we want to add a number to every element in an array, a vectorized operation allows us to do this in one simple step. This is not only more convenient but also significantly faster, especially with large datasets, compared to using loops to do the same task element by element.\n",
        "\n",
        "9. How does Matplotlib differ from Plotly?\n",
        "\n",
        "   - **Matplotlib:**\n",
        "      1. **Interactivity**: Matplotlib is used for creating **static** plots. Once the plot is generated, we can't interact with it (e.g., no zooming or hovering over points for more information).\n",
        "      2. **Ease of Use**: Matplotlib can be a bit more complex and requires more code to customize plots or add features. It may need more effort for interactive elements.\n",
        "      3. **Customization**: Matplotlib offers full control over the plot’s appearance. We can adjust every detail, like colors, fonts, line styles, and more, making it ideal for creating highly customized static charts.\n",
        "      4. **Output Formats**: Matplotlib creates static images (e.g., PNG, SVG), which are perfect for reports, publications, or any content that doesn't require interactivity.\n",
        "      5. **Performance**: Matplotlib is efficient for creating **static charts** and works well with large datasets in that context.\n",
        "\n",
        "   - **Plotly:**\n",
        "      1. **Interactivity**: Plotly is built for **interactive** visualizations. We can zoom, pan, hover over data points to see more details, and even toggle the visibility of certain data series.\n",
        "      2. **Ease of Use**: Plotly is generally easier to use when creating interactive visualizations, as it provides a simple API that lets us make interactive charts with less code.\n",
        "      3. **Customization**: Plotly allows for interactive customizations, but its focus is more on providing interactive features like zooming, tooltips, and animations rather than offering deep control over every small detail of the plot.\n",
        "      4. **Output Formats**: Plotly generates interactive visualizations that can be displayed in web browsers or embedded into web pages, making it great for creating dashboards and web-based plots.\n",
        "      5. **Performance**: Plotly can handle interactive visualizations well but may not perform as efficiently as Matplotlib when working with very large datasets.\n",
        "\n",
        "10. What is the significance of hierarchical indexing in Pandas?\n",
        "\n",
        "    - **Hierarchical indexing** in Pandas allows us to work with **multi-level indexes**, meaning we can have more than one index to organize data in a DataFrame or Series. This is particularly useful when dealing with complex datasets that have multiple dimensions, like time-series data, grouped data, or nested categories.\n",
        "\n",
        "    - The significance of hierarchical indexing is:\n",
        "\n",
        "       1. **Organization**: It lets us **organize data** with multiple levels of indexing, making it easier to analyze complex datasets.\n",
        "       2. **Simplified Data Access**: We can easily **slice, group, and filter** data based on different levels of the index without needing to manually sort or reshape the data.\n",
        "       3. **Better Data Representation**: It helps us represent **multi-dimensional data** in a 2D format, keeping everything organized and easy to manage.\n",
        "       4. **Efficient Aggregation**: Hierarchical indexing allows us to quickly perform **groupby** operations and aggregate data across different levels, which is helpful in data analysis.\n",
        "\n",
        "\n",
        "11. What is the role of Seaborn’s pairplot() function?\n",
        "\n",
        "   -  Seaborn's pairplot() function is to create a matrix of scatter plots for all pairwise relationships in a dataset. It's especially useful for visualizing how different numerical features in a dataset relate to each other.\n",
        "\n",
        "     Here’s why it's useful:\n",
        "       1. It automatically creates scatter plots for each pair of variables, so we can quickly see correlations and patterns between them.\n",
        "      2. The diagonal of the pairplot often shows the **distribution** of each individual feature (typically with histograms or kernel density plots).\n",
        "      3. It can also display different hue (category) values using color, which helps in visualizing how categories affect the relationship between features.\n",
        "      4. It's a great tool for exploratory data analysis (EDA), as it helps us identify trends, outliers, and relationships in the data.\n",
        "\n",
        "\n",
        "12. What is the purpose of the describe() function in Pandas?\n",
        "\n",
        "   -  **describe()** function in Pandas is used to generate summary statistics of a dataset. It provides a quick overview of the numerical features in a DataFrame or Series, helping us understand the distribution and characteristics of the data.\n",
        "\n",
        "     - purpose:\n",
        "      1. **Count**: Shows the number of non-null entries.\n",
        "      2. **Mean**: Calculates the average of the data.\n",
        "      3. **Standard Deviation**: Measures the spread or variability of the data.\n",
        "      4. **Min and Max**: Displays the smallest and largest values in the dataset.\n",
        "      5. **25th, 50th, and 75th Percentiles**: These are the quartiles that split the data into four equal parts.\n",
        "\n",
        "13. Why is handling missing data important in Pandas?\n",
        "\n",
        "   - Handling missing data is important in Pandas because **missing or null values** can affect the accuracy and reliability of data analysis and modeling. When we have missing data, calculations like averages, sums, or correlations may be biased or incorrect. Additionally, many machine learning algorithms and statistical methods cannot handle missing values directly, so they might fail or produce misleading results if not addressed properly.\n",
        "\n",
        "     In Pandas, we can handle missing data by either **removing** rows or columns with missing values or **filling** them with a specific value (such as the mean, median, or zero). Properly handling missing data ensures that our analysis is accurate, our models perform well, and the insights we gain from the data are valid. Therefore, cleaning and managing missing data is a crucial step in the data preparation process.\n",
        "\n",
        "14. What are the benefits of using Plotly for data visualization?\n",
        "\n",
        "   - Using **Plotly** for data visualization offers several benefits:\n",
        "\n",
        "     1. **Interactivity**: Plotly creates interactive visualizations, allowing users to zoom, pan, hover over data points for more details, and toggle between different data series. This interactivity enhances the user experience, especially for web-based applications and dashboards.\n",
        "\n",
        "     2. **Ease of Use**: Plotly has a user-friendly API, making it easy to create complex visualizations with just a few lines of code. It simplifies the process of generating interactive charts without requiring much setup.\n",
        "\n",
        "     3. **Customization**: Plotly provides extensive options to customize charts, including changing colors, labels, and adding annotations. You can create detailed, visually appealing graphs that fit specific needs.\n",
        "\n",
        "     4. **Variety of Plots**: Plotly supports a wide range of plot types, including line charts, scatter plots, bar charts, heatmaps, 3D plots, and more, giving you flexibility in how you present your data.\n",
        "\n",
        "     5. **Integration with Web Applications**: Plotly integrates easily with web frameworks like Dash and Flask, making it perfect for building interactive web-based dashboards and reports.\n",
        "\n",
        "     6. Support for Large Datasets\n",
        "\n",
        "\n",
        "15. How does NumPy handle multidimensional arrays?\n",
        "\n",
        "    - NumPy handles multidimensional arrays by using its **ndarray** object, which allows us to store data in multiple dimensions, like 2D matrices or 3D arrays. Each array has a **shape** (e.g., rows and columns) and a **size** (total elements). We can access elements using **indexing** and **slicing** (e.g., `array[row, column]` for 2D arrays). NumPy also allows us to perform **operations** on the entire array at once and supports **broadcasting**, which makes working with arrays of different shapes easier. This makes NumPy efficient for handling and manipulating complex data.\n",
        "\n",
        "\n",
        "16. What is the role of Bokeh in data visualization?\n",
        "\n",
        "   - **Bokeh** is a Python library used to create **interactive and dynamic visualizations** that can be easily embedded into web applications. It allows users to build charts and graphs with features like **zooming**, **panning**, and **tooltips**, making the visualizations more engaging and useful for exploring data. Bokeh supports a wide variety of plot types, such as line charts, bar charts, and scatter plots. One of its strengths is the ability to handle **real-time data**, which makes it ideal for creating dashboards or monitoring systems. Overall, Bokeh is a great tool for building interactive, web-based visualizations that allow users to interact with and explore data in a more intuitive way.\n",
        "\n",
        "\n",
        "17. Explain the difference between apply() and map() in Pandas?\n",
        "\n",
        "   - The **apply()** and **map()** functions in Pandas are both used for applying functions to data, but they have some important differences:\n",
        "\n",
        "   1. **apply()**:\n",
        "      - It is used to apply a function along **rows or columns** of a DataFrame or to the elements of a Series.\n",
        "      - You can use apply() with more complex functions, such as those that involve multiple columns in a DataFrame.\n",
        "      - It can return a Series or DataFrame depending on the function applied.\n",
        "\n",
        "   2. **map()**:\n",
        "     -  It is used to apply a function element-wise to **each element** in a **Series**. It’s simpler and more straightforward compared to **apply()**.\n",
        "     - **map()** is generally used for transforming or mapping values in a Series using a dictionary, a Series, or a function.\n",
        "     - It always returns a **Series**.\n",
        "\n",
        "\n",
        "18. What are some advanced features of NumPy?\n",
        "\n",
        "   - NumPy has several advanced features that enhance its power for numerical computing:\n",
        "\n",
        "     1. **Broadcasting**: Allows operations on arrays of different shapes without explicit loops, making calculations efficient.\n",
        "     2. **Vectorization**: Enables applying operations to entire arrays at once, speeding up computations.\n",
        "     3. **Advanced Indexing**: Provides fancy, boolean, and multi-dimensional indexing for complex data extraction.\n",
        "     4. **Linear Algebra**: Includes functions for matrix operations, eigenvalues, and more, essential for scientific tasks.\n",
        "     5. **Random Sampling**: Helps generate random numbers and perform sampling, useful in simulations.\n",
        "     6. **Memory Efficiency**: Stores arrays in contiguous memory, improving performance with large datasets.\n",
        "     7. **Polynomials & Fourier Transforms**: Offers tools for working with polynomials and signal processing tasks.\n",
        "\n",
        "19. How does Pandas simplify time series analysis?\n",
        "\n",
        "   - Pandas simplifies time series analysis by offering powerful tools for working with time-based data. It allows **datetime indexing** to organize data by time, supports **resampling** to change data frequency, and enables easy **time-based operations** like shifting data or calculating rolling averages. Pandas also helps handle **missing data** with fill methods and provides **time zone handling** for multi-zone data. Additionally, the **date_range()** function generates custom date ranges. These features make it efficient for analyzing and manipulating time series data.\n",
        "\n",
        "\n",
        "20. What is the role of a pivot table in Pandas?\n",
        "\n",
        "  - A **pivot table** in Pandas is used to **summarize and aggregate data** in a DataFrame, similar to pivot tables in Excel. It helps in **reshaping** data by rearranging it, allowing us to easily compute statistics such as sums, averages, or counts for different categories.\n",
        "\n",
        "     Key roles of a pivot table include:\n",
        "       1. **Data Aggregation**: It groups data based on specified columns and computes aggregate values, like sums or means.\n",
        "       2. **Reshaping Data**: It allows us to **transform rows into columns**, making the data easier to analyze by providing a more structured view.\n",
        "       3. **Easy Data Comparison**: By organizing data into a grid format, it helps in comparing values across multiple categories.\n",
        "\n",
        "\n",
        "\n",
        "21. Why is NumPy’s array slicing faster than Python’s list slicing?\n",
        "\n",
        "   - NumPy’s array slicing is faster than Python’s list slicing due to several key factors. First, NumPy arrays are stored in **contiguous blocks of memory**, allowing quicker access to data. In contrast, Python lists are more flexible but store elements in separate memory locations, making slicing slower. NumPy arrays also use a **single data type**, while Python lists can store mixed data types, adding overhead. Additionally, NumPy’s slicing is optimized at a **low-level (C-based)**, while Python lists are managed at a higher level in Python, which slows them down. NumPy’s **vectorized operations** allow entire arrays or slices to be processed at once, further speeding up calculations. Overall, NumPy’s optimized memory structure and processing lead to faster slicing compared to Python lists.\n",
        "\n",
        "\n",
        "22. What are some common use cases for Seaborn?\n",
        "\n",
        "   - Seaborn is a powerful data visualization library in Python, commonly used for the following tasks:\n",
        "\n",
        "     1. **Exploratory Data Analysis (EDA)**: Seaborn helps visualize relationships between variables, distributions, and trends in data, which aids in understanding the dataset before further analysis.\n",
        "   \n",
        "     2. **Statistical Plots**: Seaborn makes it easy to create **statistical plots** like histograms, box plots, bar plots, scatter plots, and violin plots, which help summarize data distributions and relationships.\n",
        "\n",
        "     3. **Correlation Analysis**: Seaborn is commonly used to visualize **correlation matrices** with heatmaps, making it easier to identify relationships between numerical features in a dataset.\n",
        "\n",
        "     4. **Categorical Data Visualization**: It simplifies plotting **categorical data**, such as creating box plots, bar plots, and count plots to understand the distribution of categories.\n",
        "\n",
        "     5. **Regression Analysis**: Seaborn provides simple ways to plot regression lines, such as in **scatter plots with regression lines** (e.g., `sns.lmplot()`), helping visualize relationships between variables.\n",
        "\n",
        "     6. **Pairwise Relationships**: Seaborn’s **pairplot()** function is commonly used to visualize pairwise relationships between features in a dataset, especially in the context of EDA.\n",
        "\n",
        "     7. **Faceting**: Seaborn makes it easy to create **facet grids** (e.g., `FacetGrid`), allowing multiple plots to be shown based on different categories, which helps in comparing data across subsets.\n",
        "\n",
        "\n",
        "\n",
        "\n",
        "\n"
      ],
      "metadata": {
        "id": "C4VAnAV345bF"
      }
    },
    {
      "cell_type": "code",
      "execution_count": 1,
      "metadata": {
        "colab": {
          "base_uri": "https://localhost:8080/"
        },
        "id": "3xTTAko_42xE",
        "outputId": "25fab343-d59a-462e-fd82-9fc8640ddfd2"
      },
      "outputs": [
        {
          "output_type": "stream",
          "name": "stdout",
          "text": [
            "[ 6 15 24]\n"
          ]
        }
      ],
      "source": [
        "# 1. How do you create a 2D NumPy array and calculate the sum of each row?\n",
        "\n",
        "import numpy as np\n",
        "\n",
        "# Create a 2D NumPy array\n",
        "arr = np.array([[1, 2, 3], [4, 5, 6], [7, 8, 9]])\n",
        "\n",
        "# Calculate the sum of each row\n",
        "row_sums = arr.sum(axis=1)\n",
        "\n",
        "print(row_sums)\n"
      ]
    },
    {
      "cell_type": "code",
      "source": [
        "# 2. Write a Pandas script to find the mean of a specific column in a DataFrame.\n",
        "\n",
        "import pandas as pd\n",
        "\n",
        "# Create a sample DataFrame\n",
        "data = {'Name': ['Alice', 'Bob', 'Charlie', 'David', 'Eve'],\n",
        "        'Age': [23, 34, 45, 36, 50],\n",
        "        'Salary': [50000, 60000, 70000, 80000, 90000]}\n",
        "\n",
        "df = pd.DataFrame(data)\n",
        "\n",
        "# Find the mean of the 'Age' column\n",
        "mean_age = df['Age'].mean()\n",
        "\n",
        "print(\"Mean of the 'Age' column:\", mean_age)\n"
      ],
      "metadata": {
        "colab": {
          "base_uri": "https://localhost:8080/"
        },
        "id": "8K37S2NhV4w1",
        "outputId": "d9a4b55c-1d22-449e-a908-27c9f5d5ddeb"
      },
      "execution_count": 2,
      "outputs": [
        {
          "output_type": "stream",
          "name": "stdout",
          "text": [
            "Mean of the 'Age' column: 37.6\n"
          ]
        }
      ]
    },
    {
      "cell_type": "code",
      "source": [
        "# 3. Create a scatter plot using Matplotlib.\n",
        "\n",
        "import matplotlib.pyplot as plt\n",
        "\n",
        "# Sample data for the scatter plot\n",
        "x = [1, 2, 3, 4, 5]\n",
        "y = [2, 3, 5, 7, 11]\n",
        "\n",
        "# Create a scatter plot\n",
        "plt.scatter(x, y)\n",
        "\n",
        "# Add title and labels\n",
        "plt.title(\"Simple Scatter Plot\")\n",
        "plt.xlabel(\"X-axis\")\n",
        "plt.ylabel(\"Y-axis\")\n",
        "\n",
        "# Show the plot\n",
        "plt.show()\n"
      ],
      "metadata": {
        "colab": {
          "base_uri": "https://localhost:8080/",
          "height": 472
        },
        "id": "ndaWSYB_Wi_a",
        "outputId": "c6ffe9ec-002d-403e-aca8-be4f6db633df"
      },
      "execution_count": 3,
      "outputs": [
        {
          "output_type": "display_data",
          "data": {
            "text/plain": [
              "<Figure size 640x480 with 1 Axes>"
            ],
            "image/png": "[encoded data removed]"
          },
          "metadata": {}
        }
      ]
    },
    {
      "cell_type": "code",
      "source": [
        "# 4. How do you calculate the correlation matrix using Seaborn and visualize it with a heatmap\n",
        "\n",
        "import seaborn as sns\n",
        "import matplotlib.pyplot as plt\n",
        "import pandas as pd\n",
        "\n",
        "# Sample data to create a DataFrame\n",
        "data = {'A': [1, 2, 3, 4, 5],\n",
        "        'B': [5, 4, 3, 2, 1],\n",
        "        'C': [1, 3, 5, 7, 9]}\n",
        "\n",
        "df = pd.DataFrame(data)\n",
        "\n",
        "# Calculate the correlation matrix\n",
        "corr_matrix = df.corr()\n",
        "\n",
        "# Create a heatmap to visualize the correlation matrix\n",
        "sns.heatmap(corr_matrix, annot=True, cmap='coolwarm', linewidths=0.5)\n",
        "\n",
        "# Show the plot\n",
        "plt.title(\"Correlation Matrix Heatmap\")\n",
        "plt.show()\n"
      ],
      "metadata": {
        "id": "XZRKl_I_Wz7X"
      },
      "execution_count": null,
      "outputs": []
    },
    {
      "cell_type": "code",
      "source": [
        "# 5. Generate a bar plot using Plotly.\n",
        "\n",
        "import plotly.graph_objects as go\n",
        "\n",
        "# Sample data for the bar plot\n",
        "categories = ['A', 'B', 'C', 'D', 'E']\n",
        "values = [10, 15, 7, 22, 17]\n",
        "\n",
        "# Create a bar plot\n",
        "fig = go.Figure(data=[go.Bar(x=categories, y=values)])\n",
        "\n",
        "# Add title and labels\n",
        "fig.update_layout(title='Simple Bar Plot', xaxis_title='Categories', yaxis_title='Values')\n",
        "\n",
        "# Show the plot\n",
        "fig.show()\n"
      ],
      "metadata": {
        "colab": {
          "base_uri": "https://localhost:8080/",
          "height": 542
        },
        "id": "9QfYt1DiXHwK",
        "outputId": "d85ddca2-4608-40ea-f179-4e73890c21d1"
      },
      "execution_count": 4,
      "outputs": [
        {
          "output_type": "display_data",
          "data": {
            "text/html": [
              "<html>\n",
              "<head><meta charset=\"utf-8\" /></head>\n",
              "<body>\n",
              "    <div>            <script src=\"https://cdnjs.cloudflare.com/ajax/libs/mathjax/2.7.5/MathJax.js?config=TeX-AMS-MML_SVG\"></script><script type=\"text/javascript\">if (window.MathJax && window.MathJax.Hub && window.MathJax.Hub.Config) {window.MathJax.Hub.Config({SVG: {font: \"STIX-Web\"}});}</script>                <script type=\"text/javascript\">window.PlotlyConfig = {MathJaxConfig: 'local'};</script>\n",
              "        <script charset=\"utf-8\" src=\"https://cdn.plot.ly/plotly-2.35.2.min.js\"></script>                <div id=\"f37849e0-161a-4ae2-850a-c4e152535cce\" class=\"plotly-graph-div\" style=\"height:525px; width:100%;\"></div>            <script type=\"text/javascript\">                                    window.PLOTLYENV=window.PLOTLYENV || {};                                    if (document.getElementById(\"f37849e0-161a-4ae2-850a-c4e152535cce\")) {                    Plotly.newPlot(                        \"f37849e0-161a-4ae2-850a-c4e152535cce\",                        [{\"x\":[\"A\",\"B\",\"C\",\"D\",\"E\"],\"y\":[10,15,7,22,17],\"type\":\"bar\"}],                        {\"template\":{\"data\":{\"histogram2dcontour\":[{\"type\":\"histogram2dcontour\",\"colorbar\":{\"outlinewidth\":0,\"ticks\":\"\"},\"colorscale\":[[0.0,\"#0d0887\"],[0.1111111111111111,\"#46039f\"],[0.2222222222222222,\"#7201a8\"],[0.3333333333333333,\"#9c179e\"],[0.4444444444444444,\"#bd3786\"],[0.5555555555555556,\"#d8576b\"],[0.6666666666666666,\"#ed7953\"],[0.7777777777777778,\"#fb9f3a\"],[0.8888888888888888,\"#fdca26\"],[1.0,\"#f0f921\"]]}],\"choropleth\":[{\"type\":\"choropleth\",\"colorbar\":{\"outlinewidth\":0,\"ticks\":\"\"}}],\"histogram2d\":[{\"type\":\"histogram2d\",\"colorbar\":{\"outlinewidth\":0,\"ticks\":\"\"},\"colorscale\":[[0.0,\"#0d0887\"],[0.1111111111111111,\"#46039f\"],[0.2222222222222222,\"#7201a8\"],[0.3333333333333333,\"#9c179e\"],[0.4444444444444444,\"#bd3786\"],[0.5555555555555556,\"#d8576b\"],[0.6666666666666666,\"#ed7953\"],[0.7777777777777778,\"#fb9f3a\"],[0.8888888888888888,\"#fdca26\"],[1.0,\"#f0f921\"]]}],\"heatmap\":[{\"type\":\"heatmap\",\"colorbar\":{\"outlinewidth\":0,\"ticks\":\"\"},\"colorscale\":[[0.0,\"#0d0887\"],[0.1111111111111111,\"#46039f\"],[0.2222222222222222,\"#7201a8\"],[0.3333333333333333,\"#9c179e\"],[0.4444444444444444,\"#bd3786\"],[0.5555555555555556,\"#d8576b\"],[0.6666666666666666,\"#ed7953\"],[0.7777777777777778,\"#fb9f3a\"],[0.8888888888888888,\"#fdca26\"],[1.0,\"#f0f921\"]]}],\"heatmapgl\":[{\"type\":\"heatmapgl\",\"colorbar\":{\"outlinewidth\":0,\"ticks\":\"\"},\"colorscale\":[[0.0,\"#0d0887\"],[0.1111111111111111,\"#46039f\"],[0.2222222222222222,\"#7201a8\"],[0.3333333333333333,\"#9c179e\"],[0.4444444444444444,\"#bd3786\"],[0.5555555555555556,\"#d8576b\"],[0.6666666666666666,\"#ed7953\"],[0.7777777777777778,\"#fb9f3a\"],[0.8888888888888888,\"#fdca26\"],[1.0,\"#f0f921\"]]}],\"contourcarpet\":[{\"type\":\"contourcarpet\",\"colorbar\":{\"outlinewidth\":0,\"ticks\":\"\"}}],\"contour\":[{\"type\":\"contour\",\"colorbar\":{\"outlinewidth\":0,\"ticks\":\"\"},\"colorscale\":[[0.0,\"#0d0887\"],[0.1111111111111111,\"#46039f\"],[0.2222222222222222,\"#7201a8\"],[0.3333333333333333,\"#9c179e\"],[0.4444444444444444,\"#bd3786\"],[0.5555555555555556,\"#d8576b\"],[0.6666666666666666,\"#ed7953\"],[0.7777777777777778,\"#fb9f3a\"],[0.8888888888888888,\"#fdca26\"],[1.0,\"#f0f921\"]]}],\"surface\":[{\"type\":\"surface\",\"colorbar\":{\"outlinewidth\":0,\"ticks\":\"\"},\"colorscale\":[[0.0,\"#0d0887\"],[0.1111111111111111,\"#46039f\"],[0.2222222222222222,\"#7201a8\"],[0.3333333333333333,\"#9c179e\"],[0.4444444444444444,\"#bd3786\"],[0.5555555555555556,\"#d8576b\"],[0.6666666666666666,\"#ed7953\"],[0.7777777777777778,\"#fb9f3a\"],[0.8888888888888888,\"#fdca26\"],[1.0,\"#f0f921\"]]}],\"mesh3d\":[{\"type\":\"mesh3d\",\"colorbar\":{\"outlinewidth\":0,\"ticks\":\"\"}}],\"scatter\":[{\"fillpattern\":{\"fillmode\":\"overlay\",\"size\":10,\"solidity\":0.2},\"type\":\"scatter\"}],\"parcoords\":[{\"type\":\"parcoords\",\"line\":{\"colorbar\":{\"outlinewidth\":0,\"ticks\":\"\"}}}],\"scatterpolargl\":[{\"type\":\"scatterpolargl\",\"marker\":{\"colorbar\":{\"outlinewidth\":0,\"ticks\":\"\"}}}],\"bar\":[{\"error_x\":{\"color\":\"#2a3f5f\"},\"error_y\":{\"color\":\"#2a3f5f\"},\"marker\":{\"line\":{\"color\":\"#E5ECF6\",\"width\":0.5},\"pattern\":{\"fillmode\":\"overlay\",\"size\":10,\"solidity\":0.2}},\"type\":\"bar\"}],\"scattergeo\":[{\"type\":\"scattergeo\",\"marker\":{\"colorbar\":{\"outlinewidth\":0,\"ticks\":\"\"}}}],\"scatterpolar\":[{\"type\":\"scatterpolar\",\"marker\":{\"colorbar\":{\"outlinewidth\":0,\"ticks\":\"\"}}}],\"histogram\":[{\"marker\":{\"pattern\":{\"fillmode\":\"overlay\",\"size\":10,\"solidity\":0.2}},\"type\":\"histogram\"}],\"scattergl\":[{\"type\":\"scattergl\",\"marker\":{\"colorbar\":{\"outlinewidth\":0,\"ticks\":\"\"}}}],\"scatter3d\":[{\"type\":\"scatter3d\",\"line\":{\"colorbar\":{\"outlinewidth\":0,\"ticks\":\"\"}},\"marker\":{\"colorbar\":{\"outlinewidth\":0,\"ticks\":\"\"}}}],\"scattermapbox\":[{\"type\":\"scattermapbox\",\"marker\":{\"colorbar\":{\"outlinewidth\":0,\"ticks\":\"\"}}}],\"scatterternary\":[{\"type\":\"scatterternary\",\"marker\":{\"colorbar\":{\"outlinewidth\":0,\"ticks\":\"\"}}}],\"scattercarpet\":[{\"type\":\"scattercarpet\",\"marker\":{\"colorbar\":{\"outlinewidth\":0,\"ticks\":\"\"}}}],\"carpet\":[{\"aaxis\":{\"endlinecolor\":\"#2a3f5f\",\"gridcolor\":\"white\",\"linecolor\":\"white\",\"minorgridcolor\":\"white\",\"startlinecolor\":\"#2a3f5f\"},\"baxis\":{\"endlinecolor\":\"#2a3f5f\",\"gridcolor\":\"white\",\"linecolor\":\"white\",\"minorgridcolor\":\"white\",\"startlinecolor\":\"#2a3f5f\"},\"type\":\"carpet\"}],\"table\":[{\"cells\":{\"fill\":{\"color\":\"#EBF0F8\"},\"line\":{\"color\":\"white\"}},\"header\":{\"fill\":{\"color\":\"#C8D4E3\"},\"line\":{\"color\":\"white\"}},\"type\":\"table\"}],\"barpolar\":[{\"marker\":{\"line\":{\"color\":\"#E5ECF6\",\"width\":0.5},\"pattern\":{\"fillmode\":\"overlay\",\"size\":10,\"solidity\":0.2}},\"type\":\"barpolar\"}],\"pie\":[{\"automargin\":true,\"type\":\"pie\"}]},\"layout\":{\"autotypenumbers\":\"strict\",\"colorway\":[\"#636efa\",\"#EF553B\",\"#00cc96\",\"#ab63fa\",\"#FFA15A\",\"#19d3f3\",\"#FF6692\",\"#B6E880\",\"#FF97FF\",\"#FECB52\"],\"font\":{\"color\":\"#2a3f5f\"},\"hovermode\":\"closest\",\"hoverlabel\":{\"align\":\"left\"},\"paper_bgcolor\":\"white\",\"plot_bgcolor\":\"#E5ECF6\",\"polar\":{\"bgcolor\":\"#E5ECF6\",\"angularaxis\":{\"gridcolor\":\"white\",\"linecolor\":\"white\",\"ticks\":\"\"},\"radialaxis\":{\"gridcolor\":\"white\",\"linecolor\":\"white\",\"ticks\":\"\"}},\"ternary\":{\"bgcolor\":\"#E5ECF6\",\"aaxis\":{\"gridcolor\":\"white\",\"linecolor\":\"white\",\"ticks\":\"\"},\"baxis\":{\"gridcolor\":\"white\",\"linecolor\":\"white\",\"ticks\":\"\"},\"caxis\":{\"gridcolor\":\"white\",\"linecolor\":\"white\",\"ticks\":\"\"}},\"coloraxis\":{\"colorbar\":{\"outlinewidth\":0,\"ticks\":\"\"}},\"colorscale\":{\"sequential\":[[0.0,\"#0d0887\"],[0.1111111111111111,\"#46039f\"],[0.2222222222222222,\"#7201a8\"],[0.3333333333333333,\"#9c179e\"],[0.4444444444444444,\"#bd3786\"],[0.5555555555555556,\"#d8576b\"],[0.6666666666666666,\"#ed7953\"],[0.7777777777777778,\"#fb9f3a\"],[0.8888888888888888,\"#fdca26\"],[1.0,\"#f0f921\"]],\"sequentialminus\":[[0.0,\"#0d0887\"],[0.1111111111111111,\"#46039f\"],[0.2222222222222222,\"#7201a8\"],[0.3333333333333333,\"#9c179e\"],[0.4444444444444444,\"#bd3786\"],[0.5555555555555556,\"#d8576b\"],[0.6666666666666666,\"#ed7953\"],[0.7777777777777778,\"#fb9f3a\"],[0.8888888888888888,\"#fdca26\"],[1.0,\"#f0f921\"]],\"diverging\":[[0,\"#8e0152\"],[0.1,\"#c51b7d\"],[0.2,\"#de77ae\"],[0.3,\"#f1b6da\"],[0.4,\"#fde0ef\"],[0.5,\"#f7f7f7\"],[0.6,\"#e6f5d0\"],[0.7,\"#b8e186\"],[0.8,\"#7fbc41\"],[0.9,\"#4d9221\"],[1,\"#276419\"]]},\"xaxis\":{\"gridcolor\":\"white\",\"linecolor\":\"white\",\"ticks\":\"\",\"title\":{\"standoff\":15},\"zerolinecolor\":\"white\",\"automargin\":true,\"zerolinewidth\":2},\"yaxis\":{\"gridcolor\":\"white\",\"linecolor\":\"white\",\"ticks\":\"\",\"title\":{\"standoff\":15},\"zerolinecolor\":\"white\",\"automargin\":true,\"zerolinewidth\":2},\"scene\":{\"xaxis\":{\"backgroundcolor\":\"#E5ECF6\",\"gridcolor\":\"white\",\"linecolor\":\"white\",\"showbackground\":true,\"ticks\":\"\",\"zerolinecolor\":\"white\",\"gridwidth\":2},\"yaxis\":{\"backgroundcolor\":\"#E5ECF6\",\"gridcolor\":\"white\",\"linecolor\":\"white\",\"showbackground\":true,\"ticks\":\"\",\"zerolinecolor\":\"white\",\"gridwidth\":2},\"zaxis\":{\"backgroundcolor\":\"#E5ECF6\",\"gridcolor\":\"white\",\"linecolor\":\"white\",\"showbackground\":true,\"ticks\":\"\",\"zerolinecolor\":\"white\",\"gridwidth\":2}},\"shapedefaults\":{\"line\":{\"color\":\"#2a3f5f\"}},\"annotationdefaults\":{\"arrowcolor\":\"#2a3f5f\",\"arrowhead\":0,\"arrowwidth\":1},\"geo\":{\"bgcolor\":\"white\",\"landcolor\":\"#E5ECF6\",\"subunitcolor\":\"white\",\"showland\":true,\"showlakes\":true,\"lakecolor\":\"white\"},\"title\":{\"x\":0.05},\"mapbox\":{\"style\":\"light\"}}},\"title\":{\"text\":\"Simple Bar Plot\"},\"xaxis\":{\"title\":{\"text\":\"Categories\"}},\"yaxis\":{\"title\":{\"text\":\"Values\"}}},                        {\"responsive\": true}                    ).then(function(){\n",
              "                            \n",
              "var gd = document.getElementById('f37849e0-161a-4ae2-850a-c4e152535cce');\n",
              "var x = new MutationObserver(function (mutations, observer) {{\n",
              "        var display = window.getComputedStyle(gd).display;\n",
              "        if (!display || display === 'none') {{\n",
              "            console.log([gd, 'removed!']);\n",
              "            Plotly.purge(gd);\n",
              "            observer.disconnect();\n",
              "        }}\n",
              "}});\n",
              "\n",
              "// Listen for the removal of the full notebook cells\n",
              "var notebookContainer = gd.closest('#notebook-container');\n",
              "if (notebookContainer) {{\n",
              "    x.observe(notebookContainer, {childList: true});\n",
              "}}\n",
              "\n",
              "// Listen for the clearing of the current output cell\n",
              "var outputEl = gd.closest('.output');\n",
              "if (outputEl) {{\n",
              "    x.observe(outputEl, {childList: true});\n",
              "}}\n",
              "\n",
              "                        })                };                            </script>        </div>\n",
              "</body>\n",
              "</html>"
            ]
          },
          "metadata": {}
        }
      ]
    },
    {
      "cell_type": "code",
      "source": [
        "# 6. Create a DataFrame and add a new column based on an existing column.\n",
        "\n",
        "import pandas as pd\n",
        "\n",
        "# Create a sample DataFrame\n",
        "data = {'Name': ['Anchal', 'satyam', 'Charlie', 'David'],\n",
        "        'Age': [23, 34, 45, 36]}\n",
        "\n",
        "df = pd.DataFrame(data)\n",
        "\n",
        "# Add a new column 'Age Group' based on the 'Age' column\n",
        "df['Age Group'] = ['Young' if age < 30 else 'Adult' for age in df['Age']]\n",
        "\n",
        "# Display the updated DataFrame\n",
        "print(df)\n"
      ],
      "metadata": {
        "colab": {
          "base_uri": "https://localhost:8080/"
        },
        "id": "RRAYHrdzXXFZ",
        "outputId": "62c1d5f5-2de3-4faa-ffeb-58b4c457651a"
      },
      "execution_count": 6,
      "outputs": [
        {
          "output_type": "stream",
          "name": "stdout",
          "text": [
            "      Name  Age Age Group\n",
            "0   Anchal   23     Young\n",
            "1   satyam   34     Adult\n",
            "2  Charlie   45     Adult\n",
            "3    David   36     Adult\n"
          ]
        }
      ]
    },
    {
      "cell_type": "code",
      "source": [
        "# 7.Write a program to perform element-wise multiplication of two NumPy arrays.\n",
        "\n",
        " import numpy as np\n",
        "\n",
        "# Create two NumPy arrays\n",
        "arr1 = np.array([1, 2, 3, 4])\n",
        "arr2 = np.array([5, 6, 7, 8])\n",
        "\n",
        "# Perform element-wise multiplication\n",
        "result = arr1 * arr2\n",
        "\n",
        "# Display the result\n",
        "print(\"Result of element-wise multiplication:\", result)\n"
      ],
      "metadata": {
        "id": "AlsCImU0Xzql"
      },
      "execution_count": null,
      "outputs": []
    },
    {
      "cell_type": "code",
      "source": [
        "# 8. Create a line plot with multiple lines using Matplotlib.\n",
        "\n",
        "import matplotlib.pyplot as plt\n",
        "\n",
        "# Sample data for multiple lines\n",
        "x = [1, 2, 3, 4, 5]\n",
        "y1 = [1, 4, 9, 16, 25]\n",
        "y2 = [25, 20, 15, 10, 5]\n",
        "\n",
        "# Create the line plot\n",
        "plt.plot(x, y1, label='y = x^2', color='blue', marker='o')  # First line\n",
        "plt.plot(x, y2, label='y = 30 - 5x', color='red', marker='x')  # Second line\n",
        "\n",
        "# Add title and labels\n",
        "plt.title(\"Line Plot with Multiple Lines\")\n",
        "plt.xlabel(\"X-axis\")\n",
        "plt.ylabel(\"Y-axis\")\n",
        "\n",
        "# Show the legend\n",
        "plt.legend()\n",
        "\n",
        "# Display the plot\n",
        "plt.show()\n"
      ],
      "metadata": {
        "colab": {
          "base_uri": "https://localhost:8080/",
          "height": 472
        },
        "id": "A9agYWNkYFWM",
        "outputId": "829d9a29-dfcc-496e-a1b1-329b26855cb3"
      },
      "execution_count": 7,
      "outputs": [
        {
          "output_type": "display_data",
          "data": {
            "text/plain": [
              "<Figure size 640x480 with 1 Axes>"
            ],
            "image/png": "[encoded data removed]"
          },
          "metadata": {}
        }
      ]
    },
    {
      "cell_type": "code",
      "source": [
        "# 9. Generate a Pandas DataFrame and filter rows where a column value is greater than a threshold.\n",
        "\n",
        "import pandas as pd\n",
        "\n",
        "# Create a sample DataFrame with Indian names\n",
        "data = {'Name': ['Aarav', 'Ishaan', 'Priya', 'Riya', 'Aditi'],\n",
        "        'Age': [23, 34, 45, 36, 50]}\n",
        "\n",
        "df = pd.DataFrame(data)\n",
        "\n",
        "# Define a threshold for the 'Age' column\n",
        "threshold = 30\n",
        "\n",
        "# Filter rows where 'Age' is greater than the threshold\n",
        "filtered_df = df[df['Age'] > threshold]\n",
        "\n",
        "# Display the filtered DataFrame\n",
        "print(filtered_df)\n",
        "\n"
      ],
      "metadata": {
        "colab": {
          "base_uri": "https://localhost:8080/"
        },
        "id": "v9hLw6v2YeKM",
        "outputId": "652780f4-088b-498d-c4a7-1c14f820d5dc"
      },
      "execution_count": 9,
      "outputs": [
        {
          "output_type": "stream",
          "name": "stdout",
          "text": [
            "     Name  Age\n",
            "1  Ishaan   34\n",
            "2   Priya   45\n",
            "3    Riya   36\n",
            "4   Aditi   50\n"
          ]
        }
      ]
    },
    {
      "cell_type": "code",
      "source": [
        "# 10. Create a histogram using Seaborn to visualize a distribution.\n",
        "\n",
        "import seaborn as sns\n",
        "import matplotlib.pyplot as plt\n",
        "\n",
        "# Sample data for the histogram\n",
        "data = [23, 45, 56, 78, 45, 34, 23, 56, 89, 45, 34, 23, 56, 78, 90, 23, 45, 56]\n",
        "\n",
        "# Create a histogram using Seaborn\n",
        "sns.histplot(data, bins=10, kde=True, color='blue')\n",
        "\n",
        "# Add title and labels\n",
        "plt.title(\"Histogram to Visualize Distribution\")\n",
        "plt.xlabel(\"Values\")\n",
        "plt.ylabel(\"Frequency\")\n",
        "\n",
        "# Show the plot\n",
        "plt.show()\n"
      ],
      "metadata": {
        "colab": {
          "base_uri": "https://localhost:8080/",
          "height": 472
        },
        "id": "NcrWirhmY9DF",
        "outputId": "ee4501db-c75d-41b1-eeec-674fe098fdd8"
      },
      "execution_count": 10,
      "outputs": [
        {
          "output_type": "display_data",
          "data": {
            "text/plain": [
              "<Figure size 640x480 with 1 Axes>"
            ],
            "image/png": "[encoded data removed]"
          },
          "metadata": {}
        }
      ]
    },
    {
      "cell_type": "code",
      "source": [
        "# 11. Perform matrix multiplication using NumPy.\n",
        "\n",
        "import numpy as np\n",
        "\n",
        "# Create two matrices (2x3 and 3x2)\n",
        "matrix1 = np.array([[1, 2, 3], [4, 5, 6]])\n",
        "matrix2 = np.array([[7, 8], [9, 10], [11, 12]])\n",
        "\n",
        "# Perform matrix multiplication\n",
        "result = np.dot(matrix1, matrix2)\n",
        "\n",
        "# Display the result\n",
        "print(\"Result of matrix multiplication:\")\n",
        "print(result)\n"
      ],
      "metadata": {
        "colab": {
          "base_uri": "https://localhost:8080/"
        },
        "id": "JGNzXwO4ZK8k",
        "outputId": "32bf4784-0532-4743-ad4e-94e1e10085f9"
      },
      "execution_count": 11,
      "outputs": [
        {
          "output_type": "stream",
          "name": "stdout",
          "text": [
            "Result of matrix multiplication:\n",
            "[[ 58  64]\n",
            " [139 154]]\n"
          ]
        }
      ]
    }
  ]
}